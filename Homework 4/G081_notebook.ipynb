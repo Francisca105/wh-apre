{
 "cells": [
  {
   "cell_type": "markdown",
   "metadata": {},
   "source": [
    "### Data Load"
   ]
  },
  {
   "cell_type": "code",
   "execution_count": 108,
   "metadata": {},
   "outputs": [],
   "source": [
    "import pandas as pd\n",
    "\n",
    "# Read the csv dataset\n",
    "df = pd.read_csv('accounts.csv', delimiter =',')"
   ]
  },
  {
   "cell_type": "markdown",
   "metadata": {},
   "source": [
    "### 1"
   ]
  },
  {
   "cell_type": "code",
   "execution_count": null,
   "metadata": {},
   "outputs": [],
   "source": [
    "%config InlineBackend.figure_formats = ['svg']\n",
    "\n",
    "from sklearn.cluster import KMeans\n",
    "from sklearn.preprocessing import MinMaxScaler\n",
    "import matplotlib.pyplot as plt\n",
    "\n",
    "max_iter = 500\n",
    "random_state = 42\n",
    "k = [2, 3, 4, 5, 6, 7, 8]\n",
    "\n",
    "# Prepare the data\n",
    "X = df.drop(columns=[_ for _ in [df.columns[i] for i in range(8,df.shape[1])]])\n",
    "X = X.drop_duplicates()\n",
    "X = X.dropna()\n",
    "X[['age', 'balance']] = MinMaxScaler().fit_transform(X[['age', 'balance']])\n",
    "X = pd.get_dummies(X, drop_first=True)\n",
    "\n",
    "# Apply k-means clustering and compute the SSE\n",
    "SSE = []\n",
    "for _ in k:\n",
    "    kmeans = KMeans(n_clusters=_, init='random', max_iter=max_iter, random_state=random_state)\n",
    "    kmeans.fit(X)\n",
    "    SSE.append(kmeans.inertia_)\n",
    "\n",
    "# Plot the graph\n",
    "plt.plot(k, SSE)\n",
    "plt.xlabel('k clusters')\n",
    "plt.ylabel('SSE')\n",
    "plt.title('k-means SSE')\n",
    "plt.show()"
   ]
  },
  {
   "cell_type": "markdown",
   "metadata": {},
   "source": [
    "### 2"
   ]
  },
  {
   "cell_type": "markdown",
   "metadata": {},
   "source": [
    "#### a)"
   ]
  },
  {
   "cell_type": "code",
   "execution_count": null,
   "metadata": {},
   "outputs": [],
   "source": [
    "from sklearn.decomposition import PCA\n",
    "from sklearn.preprocessing import StandardScaler\n",
    "\n",
    "# Prepare the data\n",
    "X = df.drop(columns=[_ for _ in [df.columns[i] for i in range(8,df.shape[1])]])\n",
    "X = X.drop_duplicates()\n",
    "X = X.dropna()\n",
    "X[['age', 'balance']] = StandardScaler().fit_transform(X[['age', 'balance']])\n",
    "X = pd.get_dummies(X, drop_first=True)\n",
    "\n",
    "# Apply PCA\n",
    "pca = PCA(n_components=2)\n",
    "X_new = pca.fit_transform(X)\n",
    "explained_var = pca.explained_variance_ratio_\n",
    "print(f'Variability explained by the top 2 components: {explained_var[0].round(3)} + {explained_var[1].round(3)} = {(explained_var[0].round(3)+explained_var[1].round(3))}')"
   ]
  },
  {
   "cell_type": "markdown",
   "metadata": {},
   "source": [
    "#### b)"
   ]
  },
  {
   "cell_type": "code",
   "execution_count": null,
   "metadata": {},
   "outputs": [],
   "source": [
    "# Version with data scaled\n",
    "\n",
    "import seaborn as sns\n",
    "\n",
    "k = 3\n",
    "random_state = 42\n",
    "\n",
    "component1 = [_[0] for _ in X_new]\n",
    "component2 = [_[1] for _ in X_new]\n",
    "\n",
    "# Apply k-means clustering with k=3\n",
    "kmeans = KMeans(n_clusters=k, random_state=random_state)\n",
    "clusters = kmeans.fit_predict(X)\n",
    "\n",
    "# Plot scatterplot\n",
    "plot = sns.scatterplot(x=component1, y=component2, hue=clusters)\n",
    "plot.legend(title='Cluster')\n",
    "\n",
    "plt.title('Scatterplot of 3 clusters based on the top 2 components')\n",
    "plt.xlabel('Component 1')\n",
    "plt.ylabel('Component 2')\n",
    "plt.show()"
   ]
  },
  {
   "cell_type": "code",
   "execution_count": null,
   "metadata": {},
   "outputs": [],
   "source": [
    "# Version with the data not scaled\n",
    "k = 3\n",
    "random_state = 42\n",
    "\n",
    "component1 = [_[0] for _ in X_new]\n",
    "component2 = [_[1] for _ in X_new]\n",
    "\n",
    "# Prepare the data\n",
    "X = df.drop(columns=[_ for _ in [df.columns[i] for i in range(8,df.shape[1])]])\n",
    "X = X.drop_duplicates()\n",
    "X = X.dropna()\n",
    "X = pd.get_dummies(X, drop_first=True)\n",
    "\n",
    "# Apply k-means clustering with k=3\n",
    "kmeans = KMeans(n_clusters=k, random_state=random_state)\n",
    "clusters = kmeans.fit_predict(X)\n",
    "\n",
    "# Plot scatterplot\n",
    "plot = sns.scatterplot(x=component1, y=component2, hue=clusters)\n",
    "plot.legend(title='Cluster')\n",
    "\n",
    "plt.title('Scatterplot of 3 clusters based on the top 2 components')\n",
    "plt.xlabel('Component 1')\n",
    "plt.ylabel('Component 2')\n",
    "plt.show()"
   ]
  },
  {
   "cell_type": "markdown",
   "metadata": {},
   "source": [
    "#### c)"
   ]
  },
  {
   "cell_type": "code",
   "execution_count": null,
   "metadata": {},
   "outputs": [],
   "source": [
    "%config InlineBackend.figure_formats = ['svg']\n",
    "\n",
    "import seaborn as sns\n",
    "\n",
    "X = df.drop(columns=[_ for _ in [df.columns[i] for i in range(8,df.shape[1])]])\n",
    "X = X.drop_duplicates()\n",
    "X = X.dropna()\n",
    "X['cluster'] = clusters\n",
    "\n",
    "plot = sns.displot(data=X, y='job', hue='cluster', multiple='dodge', stat='density', shrink=0.8, common_norm=False)\n",
    "plt.show()\n",
    "sns.displot(data=X, y='education', hue='cluster', multiple='dodge', stat='density', shrink=0.8, common_norm=False)\n",
    "plt.show()"
   ]
  }
 ],
 "metadata": {
  "kernelspec": {
   "display_name": "Python 3",
   "language": "python",
   "name": "python3"
  },
  "language_info": {
   "codemirror_mode": {
    "name": "ipython",
    "version": 3
   },
   "file_extension": ".py",
   "mimetype": "text/x-python",
   "name": "python",
   "nbconvert_exporter": "python",
   "pygments_lexer": "ipython3",
   "version": "3.12.7"
  }
 },
 "nbformat": 4,
 "nbformat_minor": 2
}
